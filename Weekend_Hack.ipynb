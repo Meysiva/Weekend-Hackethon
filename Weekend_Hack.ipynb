{
 "cells": [
  {
   "cell_type": "markdown",
   "metadata": {
    "slideshow": {
     "slide_type": "slide"
    }
   },
   "source": [
    "## Program which simulates the Conway's game of life "
   ]
  },
  {
   "cell_type": "code",
   "execution_count": 2,
   "metadata": {
    "slideshow": {
     "slide_type": "slide"
    }
   },
   "outputs": [],
   "source": [
    "import matplotlib.pyplot as plt \n",
    "from matplotlib.animation import FuncAnimation\n",
    "from matplotlib import colors\n",
    "import numpy as np\n",
    "from IPython.display import HTML, display\n",
    "%matplotlib inline"
   ]
  },
  {
   "cell_type": "code",
   "execution_count": 11,
   "metadata": {
    "slideshow": {
     "slide_type": "slide"
    }
   },
   "outputs": [
    {
     "name": "stdout",
     "output_type": "stream",
     "text": [
      "Enter the dimension N of the universe square: 10\n",
      "1 1\n",
      "2 2\n",
      "2 3\n",
      "3 2\n",
      "1 3\n",
      "\n"
     ]
    }
   ],
   "source": [
    "# getting the user input for the initial state \n",
    "# taking a list as an input\n",
    "N = int(input(\"Enter the dimension N of the universe square: \"))\n",
    "initial_active_points = []  \n",
    "while True: \n",
    "    line = input()\n",
    "    if not line:\n",
    "        break\n",
    "    initial_active_points.append(tuple(line.split())) \n",
    "\n",
    "initial_active_points = np.array(initial_active_points, dtype = 'int64')"
   ]
  },
  {
   "cell_type": "code",
   "execution_count": 12,
   "metadata": {
    "slideshow": {
     "slide_type": "subslide"
    }
   },
   "outputs": [],
   "source": [
    "current_universe = np.zeros((N,N))\n",
    "current_universe.dtype = 'int64'"
   ]
  },
  {
   "cell_type": "code",
   "execution_count": 13,
   "metadata": {
    "scrolled": false,
    "slideshow": {
     "slide_type": "subslide"
    }
   },
   "outputs": [
    {
     "name": "stdout",
     "output_type": "stream",
     "text": [
      "[[1 0 1]\n",
      " [0 1 1]\n",
      " [0 1 0]]\n"
     ]
    }
   ],
   "source": [
    "# defining the initial state of the cellular universe \n",
    "length = int(initial_active_points.size/2)\n",
    "for index in range(length):\n",
    "    current_universe[initial_active_points[index,0]-1, initial_active_points[index,1]-1] = 1\n",
    "print(current_universe[:3,:3])"
   ]
  },
  {
   "cell_type": "code",
   "execution_count": 14,
   "metadata": {
    "slideshow": {
     "slide_type": "subslide"
    }
   },
   "outputs": [
    {
     "data": {
      "image/png": "[encoded data removed]",
      "text/plain": [
       "<Figure size 576x576 with 1 Axes>"
      ]
     },
     "metadata": {
      "needs_background": "light"
     },
     "output_type": "display_data"
    }
   ],
   "source": [
    "# set the initial plot with the initial universe \n",
    "\n",
    "# specify the plot characteristics \n",
    "fig = plt.figure(figsize=(8,8))\n",
    "ax = plt.axes()\n",
    "ax.set_aspect(1)\n",
    "cmap = colors.ListedColormap(['black','orange'])\n",
    "color_map = ax.imshow(current_universe, cmap=cmap, interpolation='nearest')\n",
    "ax.get_xaxis().set_visible(False)\n",
    "ax.axes.get_yaxis().set_visible(False)"
   ]
  },
  {
   "cell_type": "code",
   "execution_count": 15,
   "metadata": {
    "slideshow": {
     "slide_type": "slide"
    }
   },
   "outputs": [],
   "source": [
    "def get_neighbors(row, column, current_universe, N):\n",
    "    \n",
    "    # Assuming that if the index goes out of bounds we take that value to be zero\n",
    "    top = 0\n",
    "    bottom = 0\n",
    "    left = 0\n",
    "    right = 0 \n",
    "    top_left = 0 \n",
    "    top_right = 0 \n",
    "    bottom_left = 0 \n",
    "    bottom_right = 0\n",
    "\n",
    "    if column != N-1:\n",
    "        right = current_universe[row, column+1]\n",
    "\n",
    "    if column != 0:\n",
    "        left = current_universe[row, column-1]\n",
    "\n",
    "    if row != 0:\n",
    "        bottom = current_universe[row-1, column]\n",
    "\n",
    "    if row != N-1:\n",
    "        top = current_universe[row+1, column]\n",
    "\n",
    "    if row != 0 and column != N-1:\n",
    "        bottom_right = current_universe[row-1, column+1]\n",
    "\n",
    "    if row != N-1 and column != N-1:\n",
    "        top_right = current_universe[row+1, column+1]\n",
    "\n",
    "    if row != 0 and column != 0:\n",
    "        bottom_left = current_universe[row-1, column-1]\n",
    "\n",
    "    if row != N-1 and column != 0:\n",
    "        top_left = current_universe[row+1, column-1]\n",
    "    \n",
    "    return top, bottom, left, right, top_left, top_right, bottom_left, bottom_right"
   ]
  },
  {
   "cell_type": "code",
   "execution_count": null,
   "metadata": {},
   "outputs": [],
   "source": [
    "def get_neighbors_toroidal(row, column, current_universe, N):\n",
    "    # Assuming the finite 2D grid to stiched together as in toroidal grid \n",
    "    if row == 0:\n",
    "        r_prev = N-1\n",
    "    else:\n",
    "        r_prev = row-1\n",
    "    \n",
    "    if row == N-1:\n",
    "        r_next = 0\n",
    "    else:\n",
    "        r_next = row+1\n",
    "    \n",
    "    if column == 0:\n",
    "        c_prev = N-1\n",
    "    else:\n",
    "        c_prev = column-1\n",
    "    \n",
    "    if column == N-1:\n",
    "        c_next = 0\n",
    "    else:\n",
    "        c_next = column+1\n",
    "        \n",
    "\n",
    "        right = current_universe[row, c_next]\n",
    "        left = current_universe[row, c_prev]\n",
    "        bottom = current_universe[r_next, column]\n",
    "        top = current_universe[r_prev, column]\n",
    "        bottom_right = current_universe[r_next, c_next]\n",
    "        top_right = current_universe[r_prev, c_next]\n",
    "        bottom_left = current_universe[r_next, c_prev]\n",
    "        top_left = current_universe[r_prev, c_prev]\n",
    "    \n",
    "    return top, bottom, left, right, top_left, top_right, bottom_left, bottom_right\n",
    "    \n",
    "    "
   ]
  },
  {
   "cell_type": "code",
   "execution_count": 16,
   "metadata": {
    "slideshow": {
     "slide_type": "subslide"
    }
   },
   "outputs": [],
   "source": [
    "# function to move from one step to the other\n",
    "\n",
    "def alter_universe(frame ,current_universe, color_map, N):\n",
    "    new_universe = current_universe.copy() \n",
    "    for row in range(N):\n",
    "        for column in range(N):\n",
    "            # Get the neighboring cell values \n",
    "            top, bottom, left, right, top_left, top_right, bottom_left, bottom_right = get_neighbors(row, column, current_universe, N)\n",
    "            total = top + bottom + left + right + top_left + top_right + bottom_left + bottom_right\n",
    "            # applying the convay's rules \n",
    "            if current_universe[row, column]  == 1: \n",
    "                if total < 2 or total > 3: \n",
    "                    new_universe[row, column] = 0 \n",
    "                else:\n",
    "                    new_universe[row,column] = 1\n",
    "            else: \n",
    "                if total == 3: \n",
    "                    new_universe[row, column] = 1\n",
    "    \n",
    "    # update data \n",
    "    color_map.set_data(new_universe) \n",
    "    current_universe[:] = new_universe[:] \n",
    "    return color_map, "
   ]
  },
  {
   "cell_type": "code",
   "execution_count": 18,
   "metadata": {
    "slideshow": {
     "slide_type": "slide"
    }
   },
   "outputs": [
    {
     "data": {
      "text/html": [
       "<video width=\"576\" height=\"576\" controls autoplay loop>\n",
       "  <source type=\"video/mp4\" src=\"data:video/mp4;base64,AAAAHGZ0eXBNNFYgAAACAGlzb21pc28yYXZjMQAAAAhmcmVlAAAFB21kYXQAAAKtBgX//6ncRem9\n",
       "5tlIt5Ys2CDZI+7veDI2NCAtIGNvcmUgMTU4IHIyOTg0IDM3NTlmY2IgLSBILjI2NC9NUEVHLTQg\n",
       "QVZDIGNvZGVjIC0gQ29weWxlZnQgMjAwMy0yMDE5IC0gaHR0cDovL3d3dy52aWRlb2xhbi5vcmcv\n",
       "eDI2NC5odG1sIC0gb3B0aW9uczogY2FiYWM9MSByZWY9MyBkZWJsb2NrPTE6MDowIGFuYWx5c2U9\n",
       "MHgzOjB4MTEzIG1lPWhleCBzdWJtZT03IHBzeT0xIHBzeV9yZD0xLjAwOjAuMDAgbWl4ZWRfcmVm\n",
       "PTEgbWVfcmFuZ2U9MTYgY2hyb21hX21lPTEgdHJlbGxpcz0xIDh4OGRjdD0xIGNxbT0wIGRlYWR6\n",
       "b25lPTIxLDExIGZhc3RfcHNraXA9MSBjaHJvbWFfcXBfb2Zmc2V0PS0yIHRocmVhZHM9NiBsb29r\n",
       "YWhlYWRfdGhyZWFkcz0xIHNsaWNlZF90aHJlYWRzPTAgbnI9MCBkZWNpbWF0ZT0xIGludGVybGFj\n",
       "ZWQ9MCBibHVyYXlfY29tcGF0PTAgY29uc3RyYWluZWRfaW50cmE9MCBiZnJhbWVzPTMgYl9weXJh\n",
       "bWlkPTIgYl9hZGFwdD0xIGJfYmlhcz0wIGRpcmVjdD0xIHdlaWdodGI9MSBvcGVuX2dvcD0wIHdl\n",
       "aWdodHA9MiBrZXlpbnQ9MjUwIGtleWludF9taW49MiBzY2VuZWN1dD00MCBpbnRyYV9yZWZyZXNo\n",
       "PTAgcmNfbG9va2FoZWFkPTQwIHJjPWNyZiBtYnRyZWU9MSBjcmY9MjMuMCBxY29tcD0wLjYwIHFw\n",
       "bWluPTAgcXBtYXg9NjkgcXBzdGVwPTQgaXBfcmF0aW89MS40MCBhcT0xOjEuMDAAgAAAAY5liIQA\n",
       "Fv/+99M/zLLr9zm146j3op4mX0N1JQGblsTtOoAAAAMAAAMABBdaSeMAC24gSzAAAD1ABAQqbu/8\n",
       "hAi5gBxZ+GqIQ8PyG4jrp/jF8wDbJp6mN7oYxWOanpCMvxSNOp2KmL2+vvcUNAdNJDpAAGkEYIKR\n",
       "EpB+GUQs6TIAAAMAAAMAAAMAAAMAAAMAAFu1YwKOmTNMVa1vBBNWB8aCGECEs6xRs6MxiEjYoApf\n",
       "HYQrA/2opcMUqTLiNSfb8SCs/stclbUufM97rgT6qg4+vMNYrRnOxgiJDHgcW8Act3F7p4MXF/Xg\n",
       "f7YO4Oe4Nja7uzQF/qlq+3qhj8wKvAGK8/9fLtsx71Cg4ryqb5vCXGnnN9Nqgjx+jLecu06YMAAU\n",
       "Jj0KpOJHpydgZ474RpF6TMlX1cfEp9bk+G1kRuUMLK4eDKXXvhIVND1UTjUfn0XFxg+lx/3foKZC\n",
       "STUqF59XMkFO+TmrOTthTi8YP7ms4wwD5q4vXnrXihuRoVmCconGje5HrwAZOXXQAAAEBQAAABRB\n",
       "miRsQV/+1qVQAAADAAADAAAPuAAAABJBnkJ4gp8AAAMAAAMAAAMAFlEAAAASAZ5hdEEvAAADAAAD\n",
       "AAADAD0gAAAAEgGeY2pBLwAAAwAAAwAAAwA9IQAAABpBmmhJqEFomUwIJf/+tSqAAAADAAADAAB6\n",
       "wQAAABRBnoZFESwU/wAAAwAAAwAAAwAWUQAAABIBnqV0QS8AAAMAAAMAAAMAPSEAAAASAZ6nakEv\n",
       "AAADAAADAAADAD0gAAADm21vb3YAAABsbXZoZAAAAAAAAAAAAAAAAAAAA+gAABGUAAEAAAEAAAAA\n",
       "AAAAAAAAAAABAAAAAAAAAAAAAAAAAAAAAQAAAAAAAAAAAAAAAAAAQAAAAAAAAAAAAAAAAAAAAAAA\n",
       "AAAAAAAAAAAAAAAAAAIAAALFdHJhawAAAFx0a2hkAAAAAwAAAAAAAAAAAAAAAQAAAAAAABGUAAAA\n",
       "AAAAAAAAAAAAAAAAAAABAAAAAAAAAAAAAAAAAAAAAQAAAAAAAAAAAAAAAAAAQAAAAAJAAAACQAAA\n",
       "AAAAJGVkdHMAAAAcZWxzdAAAAAAAAAABAAARlAAAQAAAAQAAAAACPW1kaWEAAAAgbWRoZAAAAAAA\n",
       "AAAAAAAAAAAAQAAAASAAVcQAAAAAAC1oZGxyAAAAAAAAAAB2aWRlAAAAAAAAAAAAAAAAVmlkZW9I\n",
       "YW5kbGVyAAAAAehtaW5mAAAAFHZtaGQAAAABAAAAAAAAAAAAAAAkZGluZgAAABxkcmVmAAAAAAAA\n",
       "AAEAAAAMdXJsIAAAAAEAAAGoc3RibAAAALRzdHNkAAAAAAAAAAEAAACkYXZjMQAAAAAAAAABAAAA\n",
       "AAAAAAAAAAAAAAAAAAJAAkAASAAAAEgAAAAAAAAAAQAAAAAAAAAAAAAAAAAAAAAAAAAAAAAAAAAA\n",
       "AAAAAAAAABj//wAAADJhdmNDAWQAFv/hABlnZAAWrNlAkBJoQAAAAwBAAAADAQPFi2WAAQAGaOvj\n",
       "yyLAAAAAHHV1aWRraEDyXyRPxbo5pRvPAyPzAAAAAAAAABhzdHRzAAAAAAAAAAEAAAAJAAAgAAAA\n",
       "ABRzdHNzAAAAAAAAAAEAAAABAAAAWGN0dHMAAAAAAAAACQAAAAEAAEAAAAAAAQAAoAAAAAABAABA\n",
       "AAAAAAEAAAAAAAAAAQAAIAAAAAABAACgAAAAAAEAAEAAAAAAAQAAAAAAAAABAAAgAAAAABxzdHNj\n",
       "AAAAAAAAAAEAAAABAAAACQAAAAEAAAA4c3RzegAAAAAAAAAAAAAACQAABEMAAAAYAAAAFgAAABYA\n",
       "AAAWAAAAHgAAABgAAAAWAAAAFgAAABRzdGNvAAAAAAAAAAEAAAAsAAAAYnVkdGEAAABabWV0YQAA\n",
       "AAAAAAAhaGRscgAAAAAAAAAAbWRpcmFwcGwAAAAAAAAAAAAAAAAtaWxzdAAAACWpdG9vAAAAHWRh\n",
       "dGEAAAABAAAAAExhdmY1OC4yOS4xMDA=\n",
       "\">\n",
       "  Your browser does not support the video tag.\n",
       "</video>"
      ],
      "text/plain": [
       "<IPython.core.display.HTML object>"
      ]
     },
     "metadata": {},
     "output_type": "display_data"
    }
   ],
   "source": [
    "# creating a video to view the animation \n",
    "\n",
    "# setting the animation attributes such as fps and number of frames.\n",
    "animation = FuncAnimation(fig, alter_universe, fargs=(current_universe, color_map, N, ),frames=np.arange(1,10, 1), interval=500)\n",
    "video = animation.to_html5_video()\n",
    "html = HTML(video)\n",
    "display(html)\n",
    "plt.close()"
   ]
  }
 ],
 "metadata": {
  "celltoolbar": "Slideshow",
  "kernelspec": {
   "display_name": "Python 3",
   "language": "python",
   "name": "python3"
  },
  "language_info": {
   "codemirror_mode": {
    "name": "ipython",
    "version": 3
   },
   "file_extension": ".py",
   "mimetype": "text/x-python",
   "name": "python",
   "nbconvert_exporter": "python",
   "pygments_lexer": "ipython3",
   "version": "3.7.3"
  }
 },
 "nbformat": 4,
 "nbformat_minor": 2
}
